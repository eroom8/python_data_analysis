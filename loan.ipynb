{
 "cells": [
  {
   "cell_type": "code",
   "execution_count": 14,
   "metadata": {},
   "outputs": [
    {
     "ename": "FileNotFoundError",
     "evalue": "[Errno 2] No such file or directory: 'sample_data.pdf'",
     "output_type": "error",
     "traceback": [
      "\u001b[1;31m---------------------------------------------------------------------------\u001b[0m",
      "\u001b[1;31mFileNotFoundError\u001b[0m                         Traceback (most recent call last)",
      "\u001b[1;32mc:\\Users\\eroom\\Desktop\\python_loan data automation\\loan.ipynb Cell 1\u001b[0m line \u001b[0;36m1\n\u001b[0;32m     <a href='vscode-notebook-cell:/c%3A/Users/eroom/Desktop/python_loan%20data%20automation/loan.ipynb#W0sZmlsZQ%3D%3D?line=10'>11</a>\u001b[0m \u001b[39m# Read data from a PDF file\u001b[39;00m\n\u001b[0;32m     <a href='vscode-notebook-cell:/c%3A/Users/eroom/Desktop/python_loan%20data%20automation/loan.ipynb#W0sZmlsZQ%3D%3D?line=11'>12</a>\u001b[0m pdf_file \u001b[39m=\u001b[39m \u001b[39m'\u001b[39m\u001b[39msample_data.pdf\u001b[39m\u001b[39m'\u001b[39m\n\u001b[1;32m---> <a href='vscode-notebook-cell:/c%3A/Users/eroom/Desktop/python_loan%20data%20automation/loan.ipynb#W0sZmlsZQ%3D%3D?line=12'>13</a>\u001b[0m pdf_data \u001b[39m=\u001b[39m tabula\u001b[39m.\u001b[39;49mread_pdf(pdf_file, pages\u001b[39m=\u001b[39;49m\u001b[39m'\u001b[39;49m\u001b[39mall\u001b[39;49m\u001b[39m'\u001b[39;49m)\n\u001b[0;32m     <a href='vscode-notebook-cell:/c%3A/Users/eroom/Desktop/python_loan%20data%20automation/loan.ipynb#W0sZmlsZQ%3D%3D?line=14'>15</a>\u001b[0m \u001b[39m# Convert the extracted PDF data into a DataFrame\u001b[39;00m\n\u001b[0;32m     <a href='vscode-notebook-cell:/c%3A/Users/eroom/Desktop/python_loan%20data%20automation/loan.ipynb#W0sZmlsZQ%3D%3D?line=15'>16</a>\u001b[0m pdf_df \u001b[39m=\u001b[39m pd\u001b[39m.\u001b[39mconcat(pdf_data)\n",
      "File \u001b[1;32mc:\\Python310\\lib\\site-packages\\tabula\\io.py:401\u001b[0m, in \u001b[0;36mread_pdf\u001b[1;34m(input_path, output_format, encoding, java_options, pandas_options, multiple_tables, user_agent, use_raw_url, pages, guess, area, relative_area, lattice, stream, password, silent, columns, relative_columns, format, batch, output_path, force_subprocess, options)\u001b[0m\n\u001b[0;32m    398\u001b[0m path, temporary \u001b[39m=\u001b[39m localize_file(input_path, user_agent, use_raw_url\u001b[39m=\u001b[39muse_raw_url)\n\u001b[0;32m    400\u001b[0m \u001b[39mif\u001b[39;00m \u001b[39mnot\u001b[39;00m os\u001b[39m.\u001b[39mpath\u001b[39m.\u001b[39mexists(path):\n\u001b[1;32m--> 401\u001b[0m     \u001b[39mraise\u001b[39;00m \u001b[39mFileNotFoundError\u001b[39;00m(errno\u001b[39m.\u001b[39mENOENT, os\u001b[39m.\u001b[39mstrerror(errno\u001b[39m.\u001b[39mENOENT), path)\n\u001b[0;32m    403\u001b[0m \u001b[39mif\u001b[39;00m os\u001b[39m.\u001b[39mpath\u001b[39m.\u001b[39mgetsize(path) \u001b[39m==\u001b[39m \u001b[39m0\u001b[39m:\n\u001b[0;32m    404\u001b[0m     \u001b[39mraise\u001b[39;00m \u001b[39mValueError\u001b[39;00m(\u001b[39mf\u001b[39m\u001b[39m\"\u001b[39m\u001b[39m{\u001b[39;00mpath\u001b[39m}\u001b[39;00m\u001b[39m is empty. Check the file, or download it manually.\u001b[39m\u001b[39m\"\u001b[39m)\n",
      "\u001b[1;31mFileNotFoundError\u001b[0m: [Errno 2] No such file or directory: 'sample_data.pdf'"
     ]
    }
   ],
   "source": [
    "import pandas as pd\n",
    "import numpy as np\n",
    "import matplotlib.pyplot as plt\n",
    "import seaborn as sns\n",
    "import tabula\n",
    "\n",
    "# Load data from an Excel file\n",
    "excel_data = pd.read_excel('loan_data.xlsx')\n",
    "excel_data.set_index('Loan_ID', inplace=True)\n",
    "\n",
    "# Read data from a PDF file\n",
    "pdf_file = 'pda_loan.pdf'\n",
    "pdf_data = tabula.read_pdf(pdf_file, pages='all')\n",
    "\n",
    "# Convert the extracted PDF data into a DataFrame\n",
    "pdf_df = pd.concat(pdf_data)\n",
    "\n",
    "# Check for duplicates in the Excel data\n",
    "excel_data = excel_data[~excel_data.duplicated()]\n",
    "\n",
    "# Handle missing values in the Excel data (e.g., fill with mean/median, drop, or impute)\n",
    "excel_data['ApplicantIncome'].fillna(excel_data['ApplicantIncome'].median(), inplace=True)\n",
    "\n",
    "# Merge the Excel and PDF data\n",
    "merged_data = pd.concat([excel_data, pdf_df], axis=0, sort=False)\n",
    "\n",
    "# EDA for merged data\n",
    "female_applicants_approved = merged_data[merged_data['Gender'] == 1]['Loan_Status'].value_counts(normalize=True)['Y']\n",
    "average_income = merged_data['ApplicantIncome'].mean()\n",
    "average_income_self_employed = merged_data[merged_data['Self_Employed'] == 1]['ApplicantIncome'].mean()\n",
    "average_income_not_self_employed = merged_data[merged_data['Self_Employed'] == 0]['ApplicantIncome'].mean()\n",
    "average_income_graduate = merged_data[merged_data['Graduate'] == 1]['ApplicantIncome'].mean()\n",
    "graduate_applicants_approved = merged_data[merged_data['Graduate'] == 1]['Loan_Status'].value_counts(normalize=True)['Y']\n",
    "\n",
    "# Visualizations\n",
    "\n",
    "# Pie chart for percentage of female applicants with approved loans\n",
    "plt.figure(figsize=(12, 6))\n",
    "plt.subplot(1, 2, 1)\n",
    "labels_female = ['Approved', 'Not Approved']\n",
    "sizes_female = [female_applicants_approved, 1 - female_applicants_approved]\n",
    "colors_female = ['#ff9999', '#66b3ff']\n",
    "plt.pie(sizes_female, labels=labels_female, autopct='%1.1f%%', startangle=90, colors=colors_female)\n",
    "plt.title(\"Female Applicants with Approved Loans\")\n",
    "plt.axis('equal')  # Equal aspect ratio ensures that pie is drawn as a circle.\n",
    "\n",
    "# Pie chart for percentage of graduate applicants with approved loans\n",
    "plt.subplot(1, 2, 2)\n",
    "labels_graduate = ['Approved', 'Not Approved']\n",
    "sizes_graduate = [graduate_applicants_approved, 1 - graduate_applicants_approved]\n",
    "colors_graduate = ['#99ff99', '#ffcc99']\n",
    "plt.pie(sizes_graduate, labels=labels_graduate, autopct='%1.1f%%', startangle=90, colors=colors_graduate)\n",
    "plt.title(\"Graduate Applicants with Approved Loans\")\n",
    "plt.axis('equal')  # Equal aspect ratio ensures that pie is drawn as a circle.\n",
    "\n",
    "plt.tight_layout()\n",
    "\n",
    "# Histogram for applicant income distribution\n",
    "plt.figure(figsize=(10, 6))\n",
    "sns.histplot(merged_data['ApplicantIncome'], bins=20, kde=True)\n",
    "plt.title(\"Applicant Income Distribution\")\n",
    "plt.xlabel(\"Applicant Income\")\n",
    "plt.ylabel(\"Frequency\")\n",
    "plt.show()\n",
    "\n",
    "# Violin plots for income by self-employment status\n",
    "plt.figure(figsize=(10, 6))\n",
    "sns.violinplot(x='Self_Employed', y='ApplicantIncome', data=merged_data, inner=\"quart\")\n",
    "plt.title(\"Applicant Income Distribution by Self-Employment Status\")\n",
    "plt.xlabel(\"Self-Employed\")\n",
    "plt.xticks([0, 1], ['Not Self-Employed', 'Self-Employed'])\n",
    "plt.ylabel(\"Applicant Income\")\n",
    "plt.show()\n"
   ]
  }
 ],
 "metadata": {
  "kernelspec": {
   "display_name": "Python 3",
   "language": "python",
   "name": "python3"
  },
  "language_info": {
   "codemirror_mode": {
    "name": "ipython",
    "version": 3
   },
   "file_extension": ".py",
   "mimetype": "text/x-python",
   "name": "python",
   "nbconvert_exporter": "python",
   "pygments_lexer": "ipython3",
   "version": "3.10.5"
  }
 },
 "nbformat": 4,
 "nbformat_minor": 2
}
